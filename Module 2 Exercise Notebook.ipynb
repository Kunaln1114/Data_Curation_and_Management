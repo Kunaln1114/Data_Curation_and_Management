{
 "cells": [
  {
   "cell_type": "markdown",
   "id": "ee8b7bdb",
   "metadata": {},
   "source": [
    "## Q1 (2 points)\n",
    "Convert a list of multiple integers into a single integer:\n",
    "\n",
    "Sample list: [11, 33, 50]\n",
    "\n",
    "Expected Output: 113350"
   ]
  },
  {
   "cell_type": "code",
   "execution_count": 1,
   "id": "db37fd52",
   "metadata": {},
   "outputs": [],
   "source": [
    "a = [11, 33, 50]"
   ]
  },
  {
   "cell_type": "code",
   "execution_count": 2,
   "id": "663b70f8",
   "metadata": {},
   "outputs": [
    {
     "name": "stdout",
     "output_type": "stream",
     "text": [
      "113350"
     ]
    }
   ],
   "source": [
    "# Write your program here. The cell output should be the integer 113350.\n",
    "for num in a:\n",
    "    print(num, end=\"\")"
   ]
  },
  {
   "cell_type": "markdown",
   "id": "5b63b43f",
   "metadata": {},
   "source": [
    "## Q2 (3 points)\n",
    "Flatten a given nested list structure. \n",
    "\n",
    "Original list: [0, 10, [20, 30], 40, 50, [60, 70, 80], [90, 100, 110, 120]]\n",
    "\n",
    "Flatten list:\n",
    "[0, 10, 20, 30, 40, 50, 60, 70, 80, 90, 100, 110, 120]"
   ]
  },
  {
   "cell_type": "code",
   "execution_count": 11,
   "id": "595e90a2",
   "metadata": {},
   "outputs": [],
   "source": [
    "a = [0, 10, [20, 30], 40, 50, [60, 70, 80], [90, 100, 110, 120]]"
   ]
  },
  {
   "cell_type": "code",
   "execution_count": 25,
   "id": "ce8fc6b2",
   "metadata": {
    "scrolled": true
   },
   "outputs": [
    {
     "ename": "TypeError",
     "evalue": "'int' object is not iterable",
     "output_type": "error",
     "traceback": [
      "\u001b[1;31m---------------------------------------------------------------------------\u001b[0m",
      "\u001b[1;31mTypeError\u001b[0m                                 Traceback (most recent call last)",
      "\u001b[1;32m~\\AppData\\Local\\Temp/ipykernel_10672/958903370.py\u001b[0m in \u001b[0;36m<module>\u001b[1;34m\u001b[0m\n\u001b[0;32m      2\u001b[0m \u001b[0mflat_list\u001b[0m \u001b[1;33m=\u001b[0m \u001b[1;33m[\u001b[0m\u001b[1;33m]\u001b[0m\u001b[1;33m\u001b[0m\u001b[1;33m\u001b[0m\u001b[0m\n\u001b[0;32m      3\u001b[0m \u001b[1;32mfor\u001b[0m \u001b[0mx\u001b[0m \u001b[1;32min\u001b[0m \u001b[0mrange\u001b[0m\u001b[1;33m(\u001b[0m\u001b[0mlen\u001b[0m\u001b[1;33m(\u001b[0m\u001b[0ma\u001b[0m\u001b[1;33m)\u001b[0m\u001b[1;33m)\u001b[0m\u001b[1;33m:\u001b[0m\u001b[1;33m\u001b[0m\u001b[1;33m\u001b[0m\u001b[0m\n\u001b[1;32m----> 4\u001b[1;33m     \u001b[1;32mfor\u001b[0m \u001b[0mnum\u001b[0m \u001b[1;32min\u001b[0m \u001b[0mx\u001b[0m\u001b[1;33m:\u001b[0m\u001b[1;33m\u001b[0m\u001b[1;33m\u001b[0m\u001b[0m\n\u001b[0m\u001b[0;32m      5\u001b[0m         \u001b[0mflat_list\u001b[0m\u001b[1;33m.\u001b[0m\u001b[0mappend\u001b[0m\u001b[1;33m(\u001b[0m\u001b[0mnum\u001b[0m\u001b[1;33m)\u001b[0m\u001b[1;33m\u001b[0m\u001b[1;33m\u001b[0m\u001b[0m\n",
      "\u001b[1;31mTypeError\u001b[0m: 'int' object is not iterable"
     ]
    }
   ],
   "source": [
    "# Write your program here. The cell output should be the flattened list.\n",
    "flat_list = []\n",
    "for x in range(len(a)):\n",
    "    for num in x:\n",
    "        flat_list.append(num)"
   ]
  },
  {
   "cell_type": "code",
   "execution_count": 23,
   "id": "86b32ec8-c71d-466c-85ab-6fa731076a41",
   "metadata": {},
   "outputs": [
    {
     "data": {
      "text/plain": [
       "[0, 0, 1, 0, 1, 2, 0, 1, 2, 3, 0, 1, 2, 3, 4, 0, 1, 2, 3, 4, 5]"
      ]
     },
     "execution_count": 23,
     "metadata": {},
     "output_type": "execute_result"
    }
   ],
   "source": [
    "flat_list"
   ]
  },
  {
   "cell_type": "markdown",
   "id": "a17788d2",
   "metadata": {},
   "source": [
    "## Q3 (2 points)\n",
    "Convert a given dictionary into a list of lists.\n",
    "\n",
    "Original Dictionary:\n",
    "{1: 'red', 2: 'green', 3: 'black', 4: 'white', 5: 'black'}\n",
    "\n",
    "Convert the said dictionary into a list of lists:\n",
    "[[1, 'red'], [2, 'green'], [3, 'black'], [4, 'white'], [5, 'black']]"
   ]
  },
  {
   "cell_type": "code",
   "execution_count": 5,
   "id": "c11f6cdc",
   "metadata": {},
   "outputs": [],
   "source": [
    "myDict = {\n",
    "    1: 'red',\n",
    "    2: 'green',\n",
    "    3: 'black',\n",
    "    4: 'white',\n",
    "    5: 'black'\n",
    "}"
   ]
  },
  {
   "cell_type": "code",
   "execution_count": 6,
   "id": "50be9788",
   "metadata": {
    "scrolled": true
   },
   "outputs": [],
   "source": [
    "# Write your program here. The cell output should be the list of lists\n"
   ]
  },
  {
   "cell_type": "markdown",
   "id": "11648db5",
   "metadata": {},
   "source": [
    "## Q4 (3 points)\n",
    "Create a new GitHub repository. Save this notebook to that repository, and enter the link to the GitHub notebook below. Note that you are not required to reupload to GitHub after filling in the box below."
   ]
  },
  {
   "cell_type": "markdown",
   "id": "c37d7ac3",
   "metadata": {},
   "source": []
  }
 ],
 "metadata": {
  "kernelspec": {
   "display_name": "Python 3 (ipykernel)",
   "language": "python",
   "name": "python3"
  },
  "language_info": {
   "codemirror_mode": {
    "name": "ipython",
    "version": 3
   },
   "file_extension": ".py",
   "mimetype": "text/x-python",
   "name": "python",
   "nbconvert_exporter": "python",
   "pygments_lexer": "ipython3",
   "version": "3.9.7"
  }
 },
 "nbformat": 4,
 "nbformat_minor": 5
}
